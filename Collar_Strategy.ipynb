{
 "cells": [
  {
   "cell_type": "code",
   "execution_count": 1,
   "id": "initial_id",
   "metadata": {
    "collapsed": true,
    "ExecuteTime": {
     "end_time": "2023-12-26T20:27:31.050557Z",
     "start_time": "2023-12-26T20:27:30.581843Z"
    }
   },
   "outputs": [],
   "source": [
    "# Import Libraries\n",
    "import yfinance as yf\n",
    "import pandas as pd\n",
    "import numpy as np\n",
    "from scipy.stats import norm\n",
    "import warnings\n",
    "warnings.filterwarnings('ignore')\n",
    "import matplotlib.pyplot as plt\n",
    "import pandas_datareader.data as web"
   ]
  },
  {
   "cell_type": "markdown",
   "source": [
    "S&P 500 Data"
   ],
   "metadata": {
    "collapsed": false
   },
   "id": "4f5606753a38a3f2"
  },
  {
   "cell_type": "code",
   "execution_count": 2,
   "outputs": [
    {
     "name": "stdout",
     "output_type": "stream",
     "text": [
      "[*********************100%%**********************]  1 of 1 completed\n"
     ]
    }
   ],
   "source": [
    "start_date = '2021-01-31'\n",
    "end_date = '2022-12-31'\n",
    "SnP_500_data = yf.download('^GSPC', start = start_date, end = end_date)\n",
    "SnP_500_data['Adj Return'] = SnP_500_data['Adj Close'].pct_change()\n",
    "SnP_500_data['Rolling_Vol.'] = SnP_500_data['Adj Return'].rolling(window=10).std()\n",
    "SnP_500_data.drop(['Open', 'High', 'Low', 'Close', 'Volume', 'Adj Return'], inplace = True, axis = 1)\n",
    "SnP_500_data.dropna(inplace = True)"
   ],
   "metadata": {
    "collapsed": false,
    "ExecuteTime": {
     "end_time": "2023-12-26T20:27:32.137158Z",
     "start_time": "2023-12-26T20:27:31.050842Z"
    }
   },
   "id": "d0cfe694ecadd170"
  },
  {
   "cell_type": "markdown",
   "source": [
    "3-Month Treasury Yield Data"
   ],
   "metadata": {
    "collapsed": false
   },
   "id": "cc096a014009b4de"
  },
  {
   "cell_type": "code",
   "execution_count": 3,
   "outputs": [],
   "source": [
    "T3 = web.DataReader('DTB3','fred',start_date,end_date)"
   ],
   "metadata": {
    "collapsed": false,
    "ExecuteTime": {
     "end_time": "2023-12-26T20:27:33.029279Z",
     "start_time": "2023-12-26T20:27:32.140619Z"
    }
   },
   "id": "8840e807089ecc57"
  },
  {
   "cell_type": "markdown",
   "source": [
    "Merge S&P and Treasury Data"
   ],
   "metadata": {
    "collapsed": false
   },
   "id": "1caafd431163b5f4"
  },
  {
   "cell_type": "code",
   "execution_count": 4,
   "outputs": [],
   "source": [
    "SnP_500_data = pd.merge(SnP_500_data, T3, left_index=True, right_index=True, how='inner')\n",
    "SnP_500_data.rename(columns={'DTB3':'Risk-free'}, inplace=True)"
   ],
   "metadata": {
    "collapsed": false,
    "ExecuteTime": {
     "end_time": "2023-12-26T20:27:33.058683Z",
     "start_time": "2023-12-26T20:27:33.028072Z"
    }
   },
   "id": "586d4f7df81e0c9b"
  },
  {
   "cell_type": "code",
   "execution_count": 5,
   "outputs": [
    {
     "data": {
      "text/plain": "4796.56005859375"
     },
     "execution_count": 5,
     "metadata": {},
     "output_type": "execute_result"
    }
   ],
   "source": [
    "max(SnP_500_data['Adj Close'])"
   ],
   "metadata": {
    "collapsed": false,
    "ExecuteTime": {
     "end_time": "2023-12-26T20:27:33.059387Z",
     "start_time": "2023-12-26T20:27:33.036763Z"
    }
   },
   "id": "6996a5e73d3ce5a8"
  },
  {
   "cell_type": "markdown",
   "source": [
    "Possible Strike"
   ],
   "metadata": {
    "collapsed": false
   },
   "id": "fb6a95dfb1ffe2b"
  },
  {
   "cell_type": "code",
   "execution_count": 6,
   "outputs": [],
   "source": [
    "possible_strike = list(range(2300,5400 + 1, 25))\n",
    "possible_strike = np.array(possible_strike)"
   ],
   "metadata": {
    "collapsed": false,
    "ExecuteTime": {
     "end_time": "2023-12-26T20:27:33.092422Z",
     "start_time": "2023-12-26T20:27:33.051935Z"
    }
   },
   "id": "30fe99dc8042a68c"
  },
  {
   "cell_type": "code",
   "execution_count": 7,
   "outputs": [
    {
     "data": {
      "text/plain": "              Adj Close  Rolling_Vol.  Risk-free  Time To Maturity  \\\n2021-02-01  3932.590088      0.005133       0.04          0.083333   \n2021-03-01  3901.820068      0.012452       0.05          0.083333   \n2021-04-01  4019.870117      0.007708       0.02          0.083333   \n2021-05-01  4192.660156      0.006999       0.04          0.083333   \n2021-06-01  4202.040039      0.005704       0.02          0.083333   \n2021-07-01  4319.939941      0.006841       0.05          0.083333   \n2021-08-01  4387.160156      0.006608       0.05          0.083333   \n2021-09-01  4524.089844      0.004736       0.05          0.083333   \n2021-10-01  4357.040039      0.011546       0.04          0.083333   \n2021-11-01  4613.669922      0.004142       0.05          0.083333   \n2021-12-01  4513.040039      0.010888       0.06          0.083333   \n2022-01-01  4796.560059      0.008796       0.09          0.083333   \n2022-02-01  4546.540039      0.013959       0.20          0.083333   \n2022-03-01  4306.259766      0.015337       0.32          0.083333   \n2022-04-01  4545.859863      0.010392       0.52          0.083333   \n2022-05-01  4155.379883      0.020418       0.90          0.083333   \n2022-06-01  4101.229980      0.019050       1.12          0.083333   \n2022-07-01  3825.330078      0.015074       1.66          0.083333   \n2022-08-01  4118.629883      0.013410       2.48          0.083333   \n2022-09-01  3966.850098      0.013474       2.88          0.083333   \n2022-10-01  3678.429932      0.015997       3.34          0.083333   \n2022-11-01  3856.100098      0.013788       4.06          0.083333   \n2022-12-01  4076.570068      0.012365       4.22          0.083333   \n\n            Price Option  \n2021-02-01             0  \n2021-03-01             0  \n2021-04-01             0  \n2021-05-01             0  \n2021-06-01             0  \n2021-07-01             0  \n2021-08-01             0  \n2021-09-01             0  \n2021-10-01             0  \n2021-11-01             0  \n2021-12-01             0  \n2022-01-01             0  \n2022-02-01             0  \n2022-03-01             0  \n2022-04-01             0  \n2022-05-01             0  \n2022-06-01             0  \n2022-07-01             0  \n2022-08-01             0  \n2022-09-01             0  \n2022-10-01             0  \n2022-11-01             0  \n2022-12-01             0  ",
      "text/html": "<div>\n<style scoped>\n    .dataframe tbody tr th:only-of-type {\n        vertical-align: middle;\n    }\n\n    .dataframe tbody tr th {\n        vertical-align: top;\n    }\n\n    .dataframe thead th {\n        text-align: right;\n    }\n</style>\n<table border=\"1\" class=\"dataframe\">\n  <thead>\n    <tr style=\"text-align: right;\">\n      <th></th>\n      <th>Adj Close</th>\n      <th>Rolling_Vol.</th>\n      <th>Risk-free</th>\n      <th>Time To Maturity</th>\n      <th>Price Option</th>\n    </tr>\n  </thead>\n  <tbody>\n    <tr>\n      <th>2021-02-01</th>\n      <td>3932.590088</td>\n      <td>0.005133</td>\n      <td>0.04</td>\n      <td>0.083333</td>\n      <td>0</td>\n    </tr>\n    <tr>\n      <th>2021-03-01</th>\n      <td>3901.820068</td>\n      <td>0.012452</td>\n      <td>0.05</td>\n      <td>0.083333</td>\n      <td>0</td>\n    </tr>\n    <tr>\n      <th>2021-04-01</th>\n      <td>4019.870117</td>\n      <td>0.007708</td>\n      <td>0.02</td>\n      <td>0.083333</td>\n      <td>0</td>\n    </tr>\n    <tr>\n      <th>2021-05-01</th>\n      <td>4192.660156</td>\n      <td>0.006999</td>\n      <td>0.04</td>\n      <td>0.083333</td>\n      <td>0</td>\n    </tr>\n    <tr>\n      <th>2021-06-01</th>\n      <td>4202.040039</td>\n      <td>0.005704</td>\n      <td>0.02</td>\n      <td>0.083333</td>\n      <td>0</td>\n    </tr>\n    <tr>\n      <th>2021-07-01</th>\n      <td>4319.939941</td>\n      <td>0.006841</td>\n      <td>0.05</td>\n      <td>0.083333</td>\n      <td>0</td>\n    </tr>\n    <tr>\n      <th>2021-08-01</th>\n      <td>4387.160156</td>\n      <td>0.006608</td>\n      <td>0.05</td>\n      <td>0.083333</td>\n      <td>0</td>\n    </tr>\n    <tr>\n      <th>2021-09-01</th>\n      <td>4524.089844</td>\n      <td>0.004736</td>\n      <td>0.05</td>\n      <td>0.083333</td>\n      <td>0</td>\n    </tr>\n    <tr>\n      <th>2021-10-01</th>\n      <td>4357.040039</td>\n      <td>0.011546</td>\n      <td>0.04</td>\n      <td>0.083333</td>\n      <td>0</td>\n    </tr>\n    <tr>\n      <th>2021-11-01</th>\n      <td>4613.669922</td>\n      <td>0.004142</td>\n      <td>0.05</td>\n      <td>0.083333</td>\n      <td>0</td>\n    </tr>\n    <tr>\n      <th>2021-12-01</th>\n      <td>4513.040039</td>\n      <td>0.010888</td>\n      <td>0.06</td>\n      <td>0.083333</td>\n      <td>0</td>\n    </tr>\n    <tr>\n      <th>2022-01-01</th>\n      <td>4796.560059</td>\n      <td>0.008796</td>\n      <td>0.09</td>\n      <td>0.083333</td>\n      <td>0</td>\n    </tr>\n    <tr>\n      <th>2022-02-01</th>\n      <td>4546.540039</td>\n      <td>0.013959</td>\n      <td>0.20</td>\n      <td>0.083333</td>\n      <td>0</td>\n    </tr>\n    <tr>\n      <th>2022-03-01</th>\n      <td>4306.259766</td>\n      <td>0.015337</td>\n      <td>0.32</td>\n      <td>0.083333</td>\n      <td>0</td>\n    </tr>\n    <tr>\n      <th>2022-04-01</th>\n      <td>4545.859863</td>\n      <td>0.010392</td>\n      <td>0.52</td>\n      <td>0.083333</td>\n      <td>0</td>\n    </tr>\n    <tr>\n      <th>2022-05-01</th>\n      <td>4155.379883</td>\n      <td>0.020418</td>\n      <td>0.90</td>\n      <td>0.083333</td>\n      <td>0</td>\n    </tr>\n    <tr>\n      <th>2022-06-01</th>\n      <td>4101.229980</td>\n      <td>0.019050</td>\n      <td>1.12</td>\n      <td>0.083333</td>\n      <td>0</td>\n    </tr>\n    <tr>\n      <th>2022-07-01</th>\n      <td>3825.330078</td>\n      <td>0.015074</td>\n      <td>1.66</td>\n      <td>0.083333</td>\n      <td>0</td>\n    </tr>\n    <tr>\n      <th>2022-08-01</th>\n      <td>4118.629883</td>\n      <td>0.013410</td>\n      <td>2.48</td>\n      <td>0.083333</td>\n      <td>0</td>\n    </tr>\n    <tr>\n      <th>2022-09-01</th>\n      <td>3966.850098</td>\n      <td>0.013474</td>\n      <td>2.88</td>\n      <td>0.083333</td>\n      <td>0</td>\n    </tr>\n    <tr>\n      <th>2022-10-01</th>\n      <td>3678.429932</td>\n      <td>0.015997</td>\n      <td>3.34</td>\n      <td>0.083333</td>\n      <td>0</td>\n    </tr>\n    <tr>\n      <th>2022-11-01</th>\n      <td>3856.100098</td>\n      <td>0.013788</td>\n      <td>4.06</td>\n      <td>0.083333</td>\n      <td>0</td>\n    </tr>\n    <tr>\n      <th>2022-12-01</th>\n      <td>4076.570068</td>\n      <td>0.012365</td>\n      <td>4.22</td>\n      <td>0.083333</td>\n      <td>0</td>\n    </tr>\n  </tbody>\n</table>\n</div>"
     },
     "execution_count": 7,
     "metadata": {},
     "output_type": "execute_result"
    }
   ],
   "source": [
    "SnP_500_data['Time To Maturity'] = 1/12\n",
    "SnP_500_data['Price Option'] = 0\n",
    "SnP_500_data = SnP_500_data.groupby(pd.Grouper(freq='MS')).first()\n",
    "SnP_500_data"
   ],
   "metadata": {
    "collapsed": false,
    "ExecuteTime": {
     "end_time": "2023-12-26T20:27:33.148945Z",
     "start_time": "2023-12-26T20:27:33.058025Z"
    }
   },
   "id": "418e484cc6e149ba"
  },
  {
   "cell_type": "markdown",
   "source": [
    "4D Array"
   ],
   "metadata": {
    "collapsed": false
   },
   "id": "586be4ca19fb027c"
  },
  {
   "cell_type": "code",
   "execution_count": 8,
   "outputs": [],
   "source": [
    "# Define the dimensions of your 4D array\n",
    "\n",
    "num_call_or_put = ['Call','Put'] # Call and Put\n",
    "num_strike_prices = possible_strike\n",
    "\n",
    "for j, val in enumerate(num_strike_prices):\n",
    "    SnP_500_data['Strike'] = np.array([val] * SnP_500_data.shape[0])\n",
    "    SnP_500_data['Profit/Loss Options'] = np.array([0]*SnP_500_data.shape[0])\n",
    "    SnP_500_data['Profit/Loss Spot'] = np.array([0]*SnP_500_data.shape[0])\n",
    "    \n",
    "ind = SnP_500_data.index\n",
    "col = SnP_500_data.columns\n",
    "\n",
    "num_rows, num_cols = SnP_500_data.shape\n",
    "\n",
    "four_dimensional_array = np.zeros((len(num_call_or_put), len(num_strike_prices), num_rows, num_cols), dtype=object)\n",
    "\n",
    "for i in range(len(num_call_or_put)):\n",
    "    for j,val in enumerate(num_strike_prices):\n",
    "        SnP_500_data['Strike'] = np.array([val] * num_rows)\n",
    "        four_dimensional_array[i,j,:,:] = SnP_500_data"
   ],
   "metadata": {
    "collapsed": false,
    "ExecuteTime": {
     "end_time": "2023-12-26T20:27:33.252352Z",
     "start_time": "2023-12-26T20:27:33.099638Z"
    }
   },
   "id": "1212586bf2033ffa"
  },
  {
   "cell_type": "markdown",
   "source": [
    "Profit and Loss Calculation"
   ],
   "metadata": {
    "collapsed": false
   },
   "id": "8b9bbb0b93697e76"
  },
  {
   "cell_type": "code",
   "execution_count": 9,
   "outputs": [],
   "source": [
    "def calculate_pnl(df,option_type):\n",
    "    if option_type == 'Call':\n",
    "        df['Profit/Loss Options'] = -df['Price Option'].diff().fillna(0) * 100\n",
    "    else:\n",
    "        df['Profit/Loss Options'] = -df['Price Option'].diff().fillna(0) * 100\n",
    "    df['Profit/Loss Spot'] = df['Adj Close'].diff().fillna(0) * 100\n",
    "    return df"
   ],
   "metadata": {
    "collapsed": false,
    "ExecuteTime": {
     "end_time": "2023-12-26T20:27:33.252712Z",
     "start_time": "2023-12-26T20:27:33.152281Z"
    }
   },
   "id": "a2dc6f80b42ed37b"
  },
  {
   "cell_type": "markdown",
   "source": [
    "Black-Scholes Calculation"
   ],
   "metadata": {
    "collapsed": false
   },
   "id": "e514aceddfa1134b"
  },
  {
   "cell_type": "code",
   "execution_count": 10,
   "outputs": [],
   "source": [
    "def blackscholes(df,option_type):\n",
    "    S_t = df['Adj Close']\n",
    "    K = df['Strike']\n",
    "    r = df['Risk-free']\n",
    "    sigma = df['Rolling_Vol.']\n",
    "    T_t = df['Time To Maturity']\n",
    "    \n",
    "    def d1(S_t, K, r, sigma, T_t):\n",
    "        return (np.log(S_t / K) + (r + 0.5 * (sigma ** 2) * T_t) / (sigma * np.sqrt(T_t)))\n",
    "    \n",
    "    def d2(d1, sigma, T_t):\n",
    "        return d1 - sigma * np.sqrt(T_t)\n",
    "    \n",
    "    # Calculate d1, d2, and the Black-Scholes option price for each row in the dataframe\n",
    "    if option_type == 'Call':\n",
    "        df['d1'] = d1(S_t, K, r, sigma, T_t)\n",
    "        df['d2'] = d2(df['d1'], sigma, T_t)\n",
    "        df['Price Option'] = S_t * norm.cdf(df['d1']) - K * np.exp(-r * T_t) * norm.cdf(df['d2'])\n",
    "        df['Delta'] = norm.cdf(df['d1'])\n",
    "    elif option_type == 'Put':\n",
    "        df['d1'] = d1(S_t, K, r, sigma, T_t)\n",
    "        df['d2'] = d2(df['d1'], sigma, T_t)\n",
    "        df['Price Option'] = K * np.exp(-r * T_t) * norm.cdf(-df['d2']) - S_t * norm.cdf(-df['d1'])  \n",
    "        df['Delta'] = -norm.cdf(df['d1'])\n",
    "    else:\n",
    "        raise ValueError(\"Invalid option_type. Use 'Call' or 'Put'.\")\n",
    "    \n",
    "    df = calculate_pnl(df, option_type)\n",
    "    df = df.drop(['d1', 'd2'], axis=1)\n",
    "    return df"
   ],
   "metadata": {
    "collapsed": false,
    "ExecuteTime": {
     "end_time": "2023-12-26T20:27:33.254506Z",
     "start_time": "2023-12-26T20:27:33.172581Z"
    }
   },
   "id": "2721eabe94541c8"
  },
  {
   "cell_type": "markdown",
   "source": [
    "Create an Excel Writer Object"
   ],
   "metadata": {
    "collapsed": false
   },
   "id": "95da7e17202512f3"
  },
  {
   "cell_type": "code",
   "execution_count": 11,
   "outputs": [],
   "source": [
    "option_type = ('Call', 'Put')\n",
    "\n",
    "for i, opt in enumerate(option_type):\n",
    "    excel_writer = pd.ExcelWriter(opt + '.xlsx', engine = 'xlsxwriter')\n",
    "    for j,val in enumerate(num_strike_prices):\n",
    "        df = pd.DataFrame(four_dimensional_array[i,j,:,:], index= ind, columns = col)\n",
    "        df = df.astype(float)\n",
    "        df = blackscholes(df, opt)\n",
    "        df.to_excel(excel_writer, sheet_name=str(val), index = True)\n",
    "    excel_writer.close()"
   ],
   "metadata": {
    "collapsed": false,
    "ExecuteTime": {
     "end_time": "2023-12-26T20:27:37.258195Z",
     "start_time": "2023-12-26T20:27:33.176983Z"
    }
   },
   "id": "f04da9cf53a2b83"
  },
  {
   "cell_type": "markdown",
   "source": [
    "Output Excel Function"
   ],
   "metadata": {
    "collapsed": false
   },
   "id": "b04e651c0beb957"
  },
  {
   "cell_type": "code",
   "execution_count": 12,
   "outputs": [],
   "source": [
    "from openpyxl import load_workbook\n",
    "def output(profit_loss_pf,call_pct, put_pct):\n",
    "    option_type = ('Call', 'Put')\n",
    "    for i, opt in enumerate(option_type):\n",
    "        excel_writer = pd.ExcelWriter(opt + '.xlsx', engine = 'xlsxwriter')\n",
    "        for j,val in enumerate(num_strike_prices):\n",
    "            df = pd.DataFrame(four_dimensional_array[i,j,:,:], index= ind, columns = col)\n",
    "            df = df.astype(float)\n",
    "            df = blackscholes(df, opt)\n",
    "            df.to_excel(excel_writer, sheet_name=str(val), index = True)\n",
    "        excel_writer.close()\n",
    "    excel_file_path = 'Call.xlsx'\n",
    "    arr = []\n",
    "    for row in profit_loss_pf.iterrows():\n",
    "        call_strike = str(int(row[1][1]))\n",
    "        df = pd.read_excel(excel_file_path, sheet_name=call_strike)\n",
    "        entry = df[df.index == row[0]]['Profit/Loss Options'].iloc[0]\n",
    "        arr.append(entry)\n",
    "    arr = pd.DataFrame({'Profit/Loss': arr}, index=profit_loss_pf['Date'])\n",
    "    profit_loss_pf = pd.merge(profit_loss_pf, arr, left_on='Date', right_index=True, how='inner')\n",
    "    \n",
    "    excel_file_path = 'Put.xlsx'\n",
    "    arr = []\n",
    "    for row in profit_loss_pf.iterrows():\n",
    "        put_strike = str(int(row[1][2]))\n",
    "        df = pd.read_excel(excel_file_path, sheet_name=put_strike)\n",
    "        entry = df[df.index == row[0]]['Profit/Loss Options'].iloc[0]\n",
    "\n",
    "        arr.append(entry)\n",
    "    arr = pd.DataFrame({'Profit/Loss': arr}, index=profit_loss_pf['Date'])\n",
    "    profit_loss_pf = pd.merge(profit_loss_pf, arr, left_on='Date', right_index=True, how='inner')\n",
    "    \n",
    "    excel_output_path = 'profit_loss_output_' + str(call_pct) +'C_'+ str(put_pct) +'P.xlsx'\n",
    "    profit_loss_pf.to_excel(excel_output_path, index = False)"
   ],
   "metadata": {
    "collapsed": false,
    "ExecuteTime": {
     "end_time": "2023-12-26T20:27:37.553147Z",
     "start_time": "2023-12-26T20:27:37.266808Z"
    }
   },
   "id": "f816919e5ede1930"
  },
  {
   "cell_type": "markdown",
   "source": [
    "Profit / Loss Calculation"
   ],
   "metadata": {
    "collapsed": false
   },
   "id": "9ed0dec6af122bdc"
  },
  {
   "cell_type": "code",
   "execution_count": 13,
   "outputs": [],
   "source": [
    "profit_loss_pf = pd.DataFrame(columns=['Date','Call_Strike','Put_Strike','Profit/Loss'])\n",
    "profit_loss_pf['Date'] = SnP_500_data.index\n",
    "profit_loss_pf = pd.merge(profit_loss_pf, SnP_500_data['Adj Close'], left_on='Date', right_index=True, how='inner')"
   ],
   "metadata": {
    "collapsed": false,
    "ExecuteTime": {
     "end_time": "2023-12-26T20:27:37.586059Z",
     "start_time": "2023-12-26T20:27:37.560551Z"
    }
   },
   "id": "ae1bfcc4b8616cf0"
  },
  {
   "cell_type": "markdown",
   "source": [
    "3% Call, 5% Put"
   ],
   "metadata": {
    "collapsed": false
   },
   "id": "8f340c955a9ec5e8"
  },
  {
   "cell_type": "code",
   "execution_count": 14,
   "outputs": [],
   "source": [
    "profit_loss_pf['Call_Strike'] = np.ceil(profit_loss_pf['Adj Close'] * 1.03 / 25) * 25\n",
    "profit_loss_pf['Put_Strike'] = np.ceil(profit_loss_pf['Adj Close'] * 1.05 / 25) * 25\n",
    "output(profit_loss_pf,3,5)"
   ],
   "metadata": {
    "collapsed": false,
    "ExecuteTime": {
     "end_time": "2023-12-26T20:27:56.476490Z",
     "start_time": "2023-12-26T20:27:37.571018Z"
    }
   },
   "id": "4f5da21c7ca47fe"
  },
  {
   "cell_type": "markdown",
   "source": [
    "3% Call, 7% Put"
   ],
   "metadata": {
    "collapsed": false
   },
   "id": "9cc7c3a2e7ebf1ef"
  },
  {
   "cell_type": "code",
   "execution_count": 15,
   "outputs": [],
   "source": [
    "profit_loss_pf['Call_Strike'] = np.ceil(profit_loss_pf['Adj Close'] * 1.03 / 25) * 25\n",
    "profit_loss_pf['Put_Strike'] = np.ceil(profit_loss_pf['Adj Close'] * 1.07 / 25) * 25\n",
    "output(profit_loss_pf,3,7)"
   ],
   "metadata": {
    "collapsed": false,
    "ExecuteTime": {
     "end_time": "2023-12-26T20:28:15.021831Z",
     "start_time": "2023-12-26T20:27:56.476758Z"
    }
   },
   "id": "51f08edc1a0f2ff"
  },
  {
   "cell_type": "markdown",
   "source": [
    "6% Call, 1% Put"
   ],
   "metadata": {
    "collapsed": false
   },
   "id": "2e3f0bb1bad331f7"
  },
  {
   "cell_type": "code",
   "execution_count": 16,
   "outputs": [],
   "source": [
    "profit_loss_pf['Call_Strike'] = np.ceil(profit_loss_pf['Adj Close'] * 1.06 / 25) * 25\n",
    "profit_loss_pf['Put_Strike'] = np.ceil(profit_loss_pf['Adj Close'] * 1.01 / 25) * 25\n",
    "output(profit_loss_pf,6,1)"
   ],
   "metadata": {
    "collapsed": false,
    "ExecuteTime": {
     "end_time": "2023-12-26T20:28:30.198559Z",
     "start_time": "2023-12-26T20:28:15.020504Z"
    }
   },
   "id": "f76be9f231ac6969"
  },
  {
   "cell_type": "markdown",
   "source": [
    "5% Call, 3% Put"
   ],
   "metadata": {
    "collapsed": false
   },
   "id": "85c0c8095143f8bc"
  },
  {
   "cell_type": "code",
   "execution_count": 17,
   "outputs": [],
   "source": [
    "profit_loss_pf['Call_Strike'] = np.ceil(profit_loss_pf['Adj Close'] * 1.06 / 25) * 25\n",
    "profit_loss_pf['Put_Strike'] = np.ceil(profit_loss_pf['Adj Close'] * 1.01 / 25) * 25\n",
    "output(profit_loss_pf,6,1)"
   ],
   "metadata": {
    "collapsed": false,
    "ExecuteTime": {
     "end_time": "2023-12-26T20:28:45.259383Z",
     "start_time": "2023-12-26T20:28:30.198826Z"
    }
   },
   "id": "5158f05f7d3b59c4"
  },
  {
   "cell_type": "markdown",
   "source": [],
   "metadata": {
    "collapsed": false
   },
   "id": "e26825146527de64"
  }
 ],
 "metadata": {
  "kernelspec": {
   "display_name": "Python 3",
   "language": "python",
   "name": "python3"
  },
  "language_info": {
   "codemirror_mode": {
    "name": "ipython",
    "version": 2
   },
   "file_extension": ".py",
   "mimetype": "text/x-python",
   "name": "python",
   "nbconvert_exporter": "python",
   "pygments_lexer": "ipython2",
   "version": "2.7.6"
  }
 },
 "nbformat": 4,
 "nbformat_minor": 5
}
